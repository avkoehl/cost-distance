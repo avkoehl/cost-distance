{
 "cells": [
  {
   "cell_type": "markdown",
   "id": "262879ca-927e-496c-953f-ea0ee206efa6",
   "metadata": {},
   "source": [
    "# routing\n",
    "\n",
    "base routing:\n",
    "+ method to find the least cost path from one cell to a target cell or multiple targets\n",
    "+ method to create cost accumulation raster from one or multiple sources (also returns raster of which source was the closest)\n",
    "\n",
    "add conditions:\n",
    "+ be able to provide additional roughness raster (slope) to combine with the distance between cells (1,1.414)\n",
    "+ be able to provide wall cells (e.g slope > 14.1 degrees)\n",
    "+ be able to provide conditions such as can't go up in elevation\n",
    "\n",
    "add numba njit\n",
    "\n",
    "https://numba.discourse.group/t/dijkstra-on-grid/1483/4.   \n",
    "See priority queue alternative: https://en.wikipedia.org/wiki/Dijkstra%27s_algorithm  \n",
    "If not fast enough add heuristic for A*?"
   ]
  },
  {
   "cell_type": "code",
   "execution_count": 154,
   "id": "e494e6f2-d594-4665-98a8-10c4c3f89faf",
   "metadata": {},
   "outputs": [],
   "source": [
    "import numpy as np\n",
    "from numba import njit\n",
    "from heapq import heappop, heappush\n",
    "\n",
    "@njit\n",
    "def _dijkstra_shortest_path(grid, source, targets, roughness=None, walls=None):\n",
    "    # targets is list of one or more nodes\n",
    "    rows, cols = grid.shape\n",
    "    visited = np.full((rows, cols), fill_value=False, dtype=np.bool)\n",
    "    distance = np.full((rows, cols), fill_value=99999999, dtype=np.float64)\n",
    "    distance[start] = 0\n",
    "    predecessors = {}\n",
    "    pq = [(0.0, source)]\n",
    "    closest_target = None\n",
    "\n",
    "    while pq:\n",
    "        dist, current = heappop(pq)\n",
    "        if current in targets:\n",
    "            closest_target = current\n",
    "            break\n",
    "        if visited[current]:\n",
    "            continue\n",
    "        visited[current] = True\n",
    "        cx, cy = current\n",
    "\n",
    "        for dx in [-1, 0, 1]:\n",
    "            for dy in [-1, 0, 1]:\n",
    "                if dx == 0 and dy == 0:\n",
    "                    continue\n",
    "                nx, ny = cx + dx, cy + dy\n",
    "                if 0 <= nx < rows and 0 <= ny < cols and not visited[(nx, ny)]:\n",
    "                    cost = 1 if dx == 0 or dy == 0 else 1.414\n",
    "                    \n",
    "                    if roughness is not None:\n",
    "                        cost *= (1 + roughness[nx, ny])  # Modify cost based on roughness\n",
    "\n",
    "                    if walls is not None:\n",
    "                        if walls[nx, ny]:\n",
    "                            continue\n",
    "                            \n",
    "                    new_dist = dist + cost\n",
    "                    if new_dist < distance[(nx, ny)]:\n",
    "                        distance[(nx, ny)] = new_dist\n",
    "                        predecessors[(nx, ny)] = current\n",
    "                        heappush(pq, (new_dist, (nx, ny)))\n",
    "                        \n",
    "    if closest_target is not None:\n",
    "        path = []\n",
    "        current = closest_target\n",
    "        while current != start:\n",
    "            path.append(current)\n",
    "            current = predecessors[current]\n",
    "    \n",
    "        path.append(start)\n",
    "        path.reverse()\n",
    "        return distance, path\n",
    "    else:\n",
    "        return distance, None"
   ]
  },
  {
   "cell_type": "code",
   "execution_count": 183,
   "id": "dce096f8-e726-4920-8b6c-f66b161254bd",
   "metadata": {},
   "outputs": [],
   "source": [
    "@njit\n",
    "def _dijkstra_accumulation_multiple_sources(grid, sources, roughness=None, walls=None):\n",
    "    # targets is list of one or more nodes\n",
    "    rows, cols = grid.shape\n",
    "    visited = np.full((rows, cols), fill_value=False, dtype=np.bool)\n",
    "    distance = np.full((rows, cols), fill_value=99999999, dtype=np.float64)\n",
    "    distance = distance.astype(np.float64)\n",
    "    predecessors = {}\n",
    "    source_nodes = {}\n",
    "\n",
    "    for source in sources:\n",
    "        pq = [(0.0, source)]\n",
    "        distance[source] = 0\n",
    "    \n",
    "        while pq:\n",
    "            dist, current = heappop(pq)\n",
    "            if visited[current]:\n",
    "                continue\n",
    "            visited[current] = True\n",
    "            cx, cy = current\n",
    "    \n",
    "            for dx in [-1, 0, 1]:\n",
    "                for dy in [-1, 0, 1]:\n",
    "                    if dx == 0 and dy == 0:\n",
    "                        continue\n",
    "                    nx, ny = cx + dx, cy + dy\n",
    "                    if 0 <= nx < rows and 0 <= ny < cols and not visited[(nx, ny)]:\n",
    "                        cost = 1 if dx == 0 or dy == 0 else 1.414\n",
    "\n",
    "                        if roughness is not None:\n",
    "                            cost *= (1 + roughness[nx, ny])  # Modify cost based on roughness\n",
    "\n",
    "                        if walls is not None:\n",
    "                            if walls[nx, ny]:\n",
    "                                continue\n",
    "                        \n",
    "                        new_dist = dist + cost\n",
    "                        if new_dist < distance[(nx, ny)]:\n",
    "                            distance[nx, ny] = new_dist\n",
    "                            predecessors[nx, ny] = current\n",
    "                            source_nodes[nx, ny] = source\n",
    "                            heappush(pq, (new_dist, (nx, ny)))\n",
    "        visited = np.full((rows, cols), fill_value=False, dtype=np.bool)\n",
    "\n",
    "    return distance, predecessors, source_nodes"
   ]
  },
  {
   "cell_type": "code",
   "execution_count": 185,
   "id": "4a31efa2-c7ed-4c13-a6c9-ffe0c12d7520",
   "metadata": {},
   "outputs": [],
   "source": [
    "import rioxarray\n",
    "\n",
    "dem = rioxarray.open_rasterio(\"../data/1805000203-dem.tif\", masked=True).squeeze()\n",
    "slope = rioxarray.open_rasterio(\"../data/wbt_working/slope.tif\", masked=True).squeeze()"
   ]
  },
  {
   "cell_type": "code",
   "execution_count": 186,
   "id": "c77c8377-79f9-435c-ba08-9c831d0cd0c6",
   "metadata": {},
   "outputs": [
    {
     "data": {
      "text/plain": [
       "(2793, 1735)"
      ]
     },
     "execution_count": 186,
     "metadata": {},
     "output_type": "execute_result"
    }
   ],
   "source": [
    "dem.data.shape"
   ]
  },
  {
   "cell_type": "code",
   "execution_count": 187,
   "id": "238799d9-492a-46ee-9481-98be2648dee8",
   "metadata": {},
   "outputs": [],
   "source": [
    "grid = dem.data\n",
    "start = (0,100)\n",
    "end = [(400, 500)]\n",
    "distance, p = dijkstra_shortest_path(grid, start, end)"
   ]
  },
  {
   "cell_type": "code",
   "execution_count": 200,
   "id": "d56aca05-b65a-49b3-a27c-b9f62c620e64",
   "metadata": {},
   "outputs": [],
   "source": [
    "# no data is masked\n",
    "walls = np.isnan(slope)\n",
    "roughness = slope\n",
    "distance, p = dijkstra_shortest_path(grid, start, end, roughness=slope.data, walls=walls.data)"
   ]
  },
  {
   "cell_type": "code",
   "execution_count": 205,
   "id": "35ebfd5b-efe4-4413-b141-7651f7eb6456",
   "metadata": {},
   "outputs": [
    {
     "ename": "SyntaxError",
     "evalue": "invalid syntax (2246204799.py, line 21)",
     "output_type": "error",
     "traceback": [
      "\u001b[0;36m  Cell \u001b[0;32mIn[205], line 21\u001b[0;36m\u001b[0m\n\u001b[0;31m    source =\u001b[0m\n\u001b[0m             ^\u001b[0m\n\u001b[0;31mSyntaxError\u001b[0m\u001b[0;31m:\u001b[0m invalid syntax\n"
     ]
    }
   ],
   "source": [
    "def least_cost_path(source, targets, dem, slope=None, walls=None, roughness_scaling_factor=1):\n",
    "    # inputs: Point, [Point], rioxarray, rioxarray, np.bool\n",
    "    # return linestring\n",
    "    # assumes dem and slope are same projection\n",
    "    # walls are cells the path can't cross\n",
    "    grid = dem.data\n",
    "\n",
    "    if slope:\n",
    "        roughness = slope.data * roughness_scaling_factor\n",
    "    else:\n",
    "        roughness = None\n",
    "\n",
    "    nodata = np.isnan(dem).data\n",
    "    if walls is not None:\n",
    "        walls = walls\n",
    "        walls = walls + nodata\n",
    "    else:\n",
    "        walls = nodata\n",
    "\n",
    "    # convert source Point to (x,y) coordinates\n",
    "    rows,cols = rasterio.transform.rowcol(dem.rio.transform(), source.x, source.y)\n",
    "    source = (rows[0], cols[0])\n",
    "    # convert target pd.Series of points to [(x,y) coordinates]\n",
    "    rows, cols = rasterio.transform.rowcol(dem.rio.transform(), targets.x, targets.y)\n",
    "    targets = zip(rows, cols)\n",
    "        \n",
    "    distance, path = _dijkstra_shortest_path(dem.data, source, targets, roughness, walls)\n",
    "\n",
    "    # convert path to linestring\n",
    "    points = []\n",
    "    for node in path:\n",
    "        row, col = node\n",
    "        x,y = # inverse transform\n",
    "        points.append(Point(x,y))\n",
    "\n",
    "    # replace first and last point with the actual x,y \n",
    "\n",
    "    path = LineString(points)\n",
    "        \n",
    "    return path"
   ]
  },
  {
   "cell_type": "code",
   "execution_count": 182,
   "id": "4196cff2-51f3-4e14-bd0e-ab2367408d12",
   "metadata": {},
   "outputs": [],
   "source": [
    "# will need to add wrapping for rioxarray objects (e.g index to coordinates, path as flowline, slope, nodata...)"
   ]
  },
  {
   "cell_type": "code",
   "execution_count": 148,
   "id": "aa2f052e-10e6-4b5c-bc97-c864bf95d1aa",
   "metadata": {},
   "outputs": [
    {
     "data": {
      "text/plain": [
       "array([[0.   , 1.   , 2.   , 3.   ],\n",
       "       [1.   , 1.414, 2.414, 3.414],\n",
       "       [2.   , 2.414, 2.828, 3.828],\n",
       "       [3.   , 3.414, 3.828, 4.242],\n",
       "       [4.   , 4.414, 4.828, 5.242]])"
      ]
     },
     "execution_count": 148,
     "metadata": {},
     "output_type": "execute_result"
    }
   ],
   "source": [
    "# Example usage:\n",
    "grid = np.array([\n",
    "    [0, 0, 0, 0],\n",
    "    [0, 0, 1, 1],\n",
    "    [0, 0, 0, 1],\n",
    "    [0, 1, 1, 1],\n",
    "    [0, 0, 0, 0]\n",
    "])\n",
    "\n",
    "start = (0, 0)\n",
    "end = [(4, 3)]\n",
    "distance, p = dijkstra_shortest_path(grid, start, end)\n",
    "distance"
   ]
  },
  {
   "cell_type": "code",
   "execution_count": 149,
   "id": "f65b23fb-9955-4d70-a633-c5e8f9752f6a",
   "metadata": {},
   "outputs": [
    {
     "data": {
      "text/plain": [
       "[(0, 0), (1, 0), (2, 1), (3, 2), (4, 3)]"
      ]
     },
     "execution_count": 149,
     "metadata": {},
     "output_type": "execute_result"
    }
   ],
   "source": [
    "p"
   ]
  },
  {
   "cell_type": "code",
   "execution_count": 162,
   "id": "6d8c16bd-82e2-47e7-a447-ffccb7f84dec",
   "metadata": {},
   "outputs": [],
   "source": [
    "d,p,s = dijkstra_accumulation_multiple_sources(grid, [(0,1)])"
   ]
  },
  {
   "cell_type": "code",
   "execution_count": 167,
   "id": "27d1273c-7236-454a-bcb0-e7d81ebe4d05",
   "metadata": {},
   "outputs": [
    {
     "data": {
      "text/plain": [
       "DictType[UniTuple(int64 x 2),UniTuple(int64 x 2)]<iv=None>({(0, 0): (0, 1), (0, 2): (0, 1), (1, 0): (0, 1), (1, 1): (0, 1), (1, 2): (0, 1), (0, 3): (0, 1), (1, 3): (0, 1), (2, 0): (0, 1), (2, 1): (0, 1), (2, 2): (0, 1), (2, 3): (0, 1), (3, 0): (0, 1), (3, 1): (0, 1), (3, 2): (0, 1), (3, 3): (0, 1), (4, 0): (0, 1), (4, 1): (0, 1), (4, 2): (0, 1), (4, 3): (0, 1)})"
      ]
     },
     "execution_count": 167,
     "metadata": {},
     "output_type": "execute_result"
    }
   ],
   "source": [
    "s"
   ]
  },
  {
   "cell_type": "code",
   "execution_count": 11,
   "id": "d1b137d5-80de-4d3a-b452-cffea024bc2a",
   "metadata": {},
   "outputs": [],
   "source": [
    "roughness = np.array([\n",
    "    [0.1, 0.1, 0.0, 0.0],\n",
    "    [0.1, 0.1, 0.1, 0.1],\n",
    "    [0.1, 0.5, 0.5, 0.1],\n",
    "    [0.1, 0.2, 0.3, 0.1],\n",
    "    [0.1, 0.1, 0.0, 0.0],\n",
    "])\n",
    "\n",
    "roughness = roughness * 2"
   ]
  },
  {
   "cell_type": "code",
   "execution_count": 12,
   "id": "a1bc5dab-329f-4e3e-9340-7a39da172bf7",
   "metadata": {},
   "outputs": [
    {
     "data": {
      "text/plain": [
       "array([[0.    , 1.2   , 2.2   , 3.2   ],\n",
       "       [1.2   , 1.6968, 2.8968, 3.8968],\n",
       "       [2.4   , 3.6968, 4.5248, 4.5936],\n",
       "       [3.6   , 4.3796, 5.9592, 5.7936],\n",
       "       [4.8   , 5.2968, 5.7936, 6.7936]])"
      ]
     },
     "execution_count": 12,
     "metadata": {},
     "output_type": "execute_result"
    }
   ],
   "source": [
    "distance, p = dijkstra_shortest_path(grid, start, end, roughness=roughness)\n",
    "distance"
   ]
  },
  {
   "cell_type": "code",
   "execution_count": 13,
   "id": "8fcdde4e-5eee-43f1-905c-b96f642214c8",
   "metadata": {},
   "outputs": [
    {
     "data": {
      "text/plain": [
       "[(0, 0), (0, 1), (1, 2), (2, 3), (3, 3), (4, 3)]"
      ]
     },
     "execution_count": 13,
     "metadata": {},
     "output_type": "execute_result"
    }
   ],
   "source": [
    "p"
   ]
  },
  {
   "cell_type": "code",
   "execution_count": 6,
   "id": "294e9df7-4e2f-46d8-9c94-86f1a58e1c73",
   "metadata": {},
   "outputs": [],
   "source": [
    "walls = np.array([\n",
    "    [0, 0, 0, 0],\n",
    "    [0, 0, 1, 1],\n",
    "    [0, 0, 0, 1],\n",
    "    [0, 1, 0, 1],\n",
    "    [0, 1, 0, 0]\n",
    "])"
   ]
  },
  {
   "cell_type": "code",
   "execution_count": 24,
   "id": "0aa6198c-1d00-4e15-9cea-a05aa2157580",
   "metadata": {},
   "outputs": [
    {
     "data": {
      "text/plain": [
       "array([[0.0000000e+00, 1.2000000e+00, 2.2000000e+00, 3.2000000e+00],\n",
       "       [1.2000000e+00, 1.6968000e+00, 9.9999999e+07, 9.9999999e+07],\n",
       "       [2.4000000e+00, 3.6968000e+00, 4.5248000e+00, 9.9999999e+07],\n",
       "       [3.6000000e+00, 9.9999999e+07, 5.9592000e+00, 9.9999999e+07],\n",
       "       [4.8000000e+00, 9.9999999e+07, 6.9592000e+00, 7.3732000e+00]])"
      ]
     },
     "execution_count": 24,
     "metadata": {},
     "output_type": "execute_result"
    }
   ],
   "source": [
    "distance, p = dijkstra_shortest_path(grid, start, end, roughness=roughness, walls=walls)\n",
    "distance"
   ]
  },
  {
   "cell_type": "code",
   "execution_count": 37,
   "id": "2ff72d40-5d25-4b24-99b7-156589b99482",
   "metadata": {},
   "outputs": [],
   "source": [
    "d,p,s = dijkstra_accumulation_multiple_sources(grid, [(0,1)], roughness=roughness*2, walls=walls)"
   ]
  },
  {
   "cell_type": "code",
   "execution_count": 38,
   "id": "286af1af-93ab-4cf4-b957-336b1773e60c",
   "metadata": {},
   "outputs": [
    {
     "data": {
      "text/plain": [
       "array([[1.4000000e+00, 0.0000000e+00, 1.0000000e+00, 2.0000000e+00],\n",
       "       [1.9796000e+00, 1.4000000e+00, 9.9999999e+07, 9.9999999e+07],\n",
       "       [3.3796000e+00, 4.4000000e+00, 5.6420000e+00, 9.9999999e+07],\n",
       "       [4.7796000e+00, 9.9999999e+07, 7.5108000e+00, 9.9999999e+07],\n",
       "       [6.1796000e+00, 9.9999999e+07, 8.5108000e+00, 8.9248000e+00]])"
      ]
     },
     "execution_count": 38,
     "metadata": {},
     "output_type": "execute_result"
    }
   ],
   "source": [
    "d"
   ]
  },
  {
   "cell_type": "code",
   "execution_count": 151,
   "id": "4218cedf-f44b-4d6b-81c8-acbafca1f1f7",
   "metadata": {},
   "outputs": [
    {
     "data": {
      "text/plain": [
       "array([[0.0000000e+00, 1.0000000e+00, 2.0000000e+00, ..., 1.9970000e+03,\n",
       "        1.9980000e+03, 1.9990000e+03],\n",
       "       [1.0000000e+00, 1.4140000e+00, 2.4140000e+00, ..., 1.9974140e+03,\n",
       "        1.9984140e+03, 1.9994140e+03],\n",
       "       [2.0000000e+00, 2.4140000e+00, 2.8280000e+00, ..., 1.9978280e+03,\n",
       "        1.9988280e+03, 1.9998280e+03],\n",
       "       ...,\n",
       "       [1.9970000e+03, 1.9974140e+03, 1.9978280e+03, ..., 9.9999999e+07,\n",
       "        9.9999999e+07, 9.9999999e+07],\n",
       "       [1.9980000e+03, 1.9984140e+03, 1.9988280e+03, ..., 9.9999999e+07,\n",
       "        9.9999999e+07, 9.9999999e+07],\n",
       "       [1.9990000e+03, 1.9994140e+03, 1.9998280e+03, ..., 9.9999999e+07,\n",
       "        9.9999999e+07, 9.9999999e+07]])"
      ]
     },
     "execution_count": 151,
     "metadata": {},
     "output_type": "execute_result"
    }
   ],
   "source": [
    "end = [(1990,199)]\n",
    "grid2 = np.zeros((2000, 2000))\n",
    "distance, p = dijkstra_shortest_path(grid2, start, end)\n",
    "distance"
   ]
  },
  {
   "cell_type": "code",
   "execution_count": 50,
   "id": "60d355bd-f0d0-4e81-a6f7-439eef213c8c",
   "metadata": {},
   "outputs": [
    {
     "data": {
      "text/plain": [
       "<matplotlib.image.AxesImage at 0x1098b8040>"
      ]
     },
     "execution_count": 50,
     "metadata": {},
     "output_type": "execute_result"
    },
    {
     "data": {
      "image/png": "[encoded data removed]",
      "text/plain": [
       "<Figure size 640x480 with 1 Axes>"
      ]
     },
     "metadata": {},
     "output_type": "display_data"
    }
   ],
   "source": [
    "import matplotlib.pyplot as plt\n",
    "\n",
    "plt.imshow(distance)"
   ]
  },
  {
   "cell_type": "code",
   "execution_count": null,
   "id": "fb07e31e-d9e8-4ead-aa58-afb15b7895f9",
   "metadata": {},
   "outputs": [],
   "source": [
    "# numba djikstra shortest path one node\n",
    "# njit with list heapq\n",
    "\n",
    "\n",
    "pq = [(0, source)]\n"
   ]
  },
  {
   "cell_type": "code",
   "execution_count": 125,
   "id": "ecd61d3b-7c72-457a-a974-3f024f22afcf",
   "metadata": {},
   "outputs": [
    {
     "data": {
      "text/plain": [
       "[(0.0, (0, 0)),\n",
       " (0.1, (1, 1)),\n",
       " (0.2, (2, 2)),\n",
       " (0.30000000000000004, (3, 3)),\n",
       " (0.4, (4, 4)),\n",
       " (0.5, (5, 5)),\n",
       " (0.6000000000000001, (6, 6)),\n",
       " (0.7000000000000001, (7, 7)),\n",
       " (0.8, (8, 8)),\n",
       " (0.9, (9, 9))]"
      ]
     },
     "execution_count": 125,
     "metadata": {},
     "output_type": "execute_result"
    }
   ],
   "source": [
    "@numba.njit\n",
    "def heapsort(iterable):\n",
    "    # method to seed the type of the list\n",
    "    ty = iterable[0]\n",
    "    h = [(3.2, (0,1)) for _ in range(0)]\n",
    "    for value in iterable:\n",
    "        heappush(h, (value*.1, (value,value)))\n",
    "    return [heappop(h) for i in range(len(h))]\n",
    "\n",
    "heapsort([1, 3, 5, 7, 9, 2, 4, 6, 8, 0])"
   ]
  },
  {
   "cell_type": "code",
   "execution_count": null,
   "id": "8558a4bf-5436-4965-bb29-4312ed74e654",
   "metadata": {},
   "outputs": [],
   "source": []
  }
 ],
 "metadata": {
  "kernelspec": {
   "display_name": "pyvalleys2024",
   "language": "python",
   "name": "pyvalleys2024"
  },
  "language_info": {
   "codemirror_mode": {
    "name": "ipython",
    "version": 3
   },
   "file_extension": ".py",
   "mimetype": "text/x-python",
   "name": "python",
   "nbconvert_exporter": "python",
   "pygments_lexer": "ipython3",
   "version": "3.10.9"
  }
 },
 "nbformat": 4,
 "nbformat_minor": 5
}
